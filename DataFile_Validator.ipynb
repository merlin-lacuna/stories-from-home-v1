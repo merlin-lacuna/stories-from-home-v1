{
  "nbformat": 4,
  "nbformat_minor": 0,
  "metadata": {
    "colab": {
      "provenance": [],
      "include_colab_link": true
    },
    "kernelspec": {
      "name": "python3",
      "display_name": "Python 3"
    },
    "language_info": {
      "name": "python"
    }
  },
  "cells": [
    {
      "cell_type": "markdown",
      "metadata": {
        "id": "view-in-github",
        "colab_type": "text"
      },
      "source": [
        "<a href=\"https://colab.research.google.com/github/merlin-lacuna/stories-from-home-v1/blob/main/DataFile_Validator.ipynb\" target=\"_parent\"><img src=\"https://colab.research.google.com/assets/colab-badge.svg\" alt=\"Open In Colab\"/></a>"
      ]
    },
    {
      "cell_type": "code",
      "source": [
        "#@title **STEP 1**: Clone the repo and install and/or import the dependencies\n",
        "import os\n",
        "import pandas as pd\n",
        "import numpy as np\n",
        "import matplotlib.pyplot as plt\n",
        "os.chdir('/content')\n",
        "!git clone https://github.com/merlin-lacuna/stories-from-home-v1.git\n",
        "os.chdir('/content/stories-from-home-v1')\n",
        "!git pull\n",
        "os.chdir('/content/stories-from-home-v1/data')\n",
        "!pip install ruamel.yaml"
      ],
      "metadata": {
        "id": "OZncIFzKCqhR",
        "cellView": "form",
        "colab": {
          "base_uri": "https://localhost:8080/"
        },
        "outputId": "a928103d-fc79-4f14-a27e-8e42a9478fdc"
      },
      "execution_count": 1,
      "outputs": [
        {
          "output_type": "stream",
          "name": "stdout",
          "text": [
            "Cloning into 'stories-from-home-v1'...\n",
            "remote: Enumerating objects: 2896, done.\u001b[K\n",
            "remote: Counting objects: 100% (136/136), done.\u001b[K\n",
            "remote: Compressing objects: 100% (112/112), done.\u001b[K\n",
            "remote: Total 2896 (delta 66), reused 64 (delta 24), pack-reused 2760\u001b[K\n",
            "Receiving objects: 100% (2896/2896), 4.21 MiB | 11.32 MiB/s, done.\n",
            "Resolving deltas: 100% (1814/1814), done.\n",
            "Already up to date.\n",
            "Looking in indexes: https://pypi.org/simple, https://us-python.pkg.dev/colab-wheels/public/simple/\n",
            "Collecting ruamel.yaml\n",
            "  Downloading ruamel.yaml-0.17.21-py3-none-any.whl (109 kB)\n",
            "\u001b[K     |████████████████████████████████| 109 kB 4.2 MB/s \n",
            "\u001b[?25hCollecting ruamel.yaml.clib>=0.2.6\n",
            "  Downloading ruamel.yaml.clib-0.2.7-cp38-cp38-manylinux_2_17_x86_64.manylinux2014_x86_64.manylinux_2_24_x86_64.whl (555 kB)\n",
            "\u001b[K     |████████████████████████████████| 555 kB 23.0 MB/s \n",
            "\u001b[?25hInstalling collected packages: ruamel.yaml.clib, ruamel.yaml\n",
            "Successfully installed ruamel.yaml-0.17.21 ruamel.yaml.clib-0.2.7\n"
          ]
        }
      ]
    },
    {
      "cell_type": "code",
      "source": [
        "!git branch -a"
      ],
      "metadata": {
        "colab": {
          "base_uri": "https://localhost:8080/"
        },
        "id": "HkGYTLVaua2X",
        "outputId": "05a81c0e-b2a0-44ed-fb4b-9bca5e4dd2fe"
      },
      "execution_count": 2,
      "outputs": [
        {
          "output_type": "stream",
          "name": "stdout",
          "text": [
            "* \u001b[32mmain\u001b[m\n",
            "  \u001b[31mremotes/origin/HEAD\u001b[m -> origin/main\n",
            "  \u001b[31mremotes/origin/add_data_bogota_landcover\u001b[m\n",
            "  \u001b[31mremotes/origin/add_data_florida_precipitation\u001b[m\n",
            "  \u001b[31mremotes/origin/add_data_ladoga_landcover\u001b[m\n",
            "  \u001b[31mremotes/origin/main\u001b[m\n"
          ]
        }
      ]
    },
    {
      "cell_type": "code",
      "source": [
        "# Checkout Branch\n",
        "!git checkout add_data_bogota_landcover\n",
        "!git pull\n",
        "\n",
        "#Check status\n",
        "!git status"
      ],
      "metadata": {
        "id": "_C7HPt6CzfBt",
        "colab": {
          "base_uri": "https://localhost:8080/"
        },
        "outputId": "b35ff03c-cd50-49e5-d1b4-49c5075c82c0"
      },
      "execution_count": 3,
      "outputs": [
        {
          "output_type": "stream",
          "name": "stdout",
          "text": [
            "Branch 'add_data_bogota_landcover' set up to track remote branch 'add_data_bogota_landcover' from 'origin'.\n",
            "Switched to a new branch 'add_data_bogota_landcover'\n",
            "Already up to date.\n",
            "On branch add_data_bogota_landcover\n",
            "Your branch is up to date with 'origin/add_data_bogota_landcover'.\n",
            "\n",
            "nothing to commit, working tree clean\n"
          ]
        }
      ]
    },
    {
      "cell_type": "code",
      "source": [
        "#@title **STEP 1.1**: (Optional) List all of the current data files\n",
        "csvs =sorted(os.listdir('/content/stories-from-home-v1/data/'))\n",
        "for f in csvs:\n",
        "  print(f)"
      ],
      "metadata": {
        "colab": {
          "base_uri": "https://localhost:8080/"
        },
        "cellView": "form",
        "id": "z6zPFMkViI8D",
        "outputId": "4647d15c-7437-4787-b3e0-f7e3ecffc840"
      },
      "execution_count": 4,
      "outputs": [
        {
          "output_type": "stream",
          "name": "stdout",
          "text": [
            ".empty\n",
            "_entity_template.yaml\n",
            "_hongkongset\n",
            "air_atmo_precip_toliara.csv\n",
            "air_atmo_precip_toliara.doc.html\n",
            "air_atmo_precip_toliara.yaml\n",
            "earth_forest_lai_amazonas.csv\n",
            "earth_forest_lai_amazonas.doc.html\n",
            "earth_forest_lai_amazonas.yaml\n",
            "earth_forest_lai_molaiforest.csv\n",
            "earth_forest_lai_molaiforest.doc.html\n",
            "earth_forest_lai_molaiforest.yaml\n",
            "earth_glacier_ndsi_bhaturaglacier.csv\n",
            "earth_glacier_ndsi_bhaturaglacier.yaml\n",
            "earth_glacier_ndsi_furtwaenglerglacier.csv\n",
            "earth_glacier_ndsi_furtwaenglerglacier.yaml\n",
            "earth_glacier_ndsi_peritomorenoglacier.csv\n",
            "earth_glacier_ndsi_peritomorenoglacier.yaml\n",
            "earth_land_lai_atismo.csv\n",
            "earth_land_lai_atismo.doc.html\n",
            "earth_land_lai_atismo.yaml\n",
            "earth_land_lai_blackforest.csv\n",
            "earth_land_lai_blackforest.yaml\n",
            "earth_land_landcover_bogota.csv\n",
            "earth_land_landcover_bogota.yaml\n",
            "earth_land_landcover_delhi.csv\n",
            "earth_land_landcover_delhi.yaml\n",
            "earth_land_landcover_dhaka.csv\n",
            "earth_land_landcover_dhaka.yaml\n",
            "earth_land_landcover_dubai.csv\n",
            "earth_land_landcover_dubai.yaml\n",
            "earth_land_landcover_manila.csv\n",
            "earth_land_landcover_manila.yaml\n",
            "earth_land_landcover_nairobi.csv\n",
            "earth_land_landcover_nairobi.yaml\n",
            "earth_land_landcover_niamey.csv\n",
            "earth_land_landcover_niamey.yaml\n",
            "earth_land_landcover_seoul.csv\n",
            "earth_land_landcover_seoul.yaml\n",
            "earth_land_ndsi_maikosnowresort.csv\n",
            "earth_land_ndsi_maikosnowresort.yaml\n",
            "earth_land_ndsi_poland.csv\n",
            "earth_land_ndsi_poland.yaml\n",
            "earth_land_ndsi_swissalps.csv\n",
            "earth_land_ndsi_swissalps.yaml\n",
            "metadata.csv\n",
            "metadata2.csv\n",
            "test_data\n",
            "water_lake_landcover_ladoga.csv\n",
            "water_lake_landcover_ladoga.yaml\n"
          ]
        }
      ]
    },
    {
      "cell_type": "code",
      "execution_count": 5,
      "metadata": {
        "id": "F30TfW_iBSYh",
        "colab": {
          "base_uri": "https://localhost:8080/"
        },
        "outputId": "8581b396-b0e0-4ecd-ef4a-a2616b523415"
      },
      "outputs": [
        {
          "output_type": "stream",
          "name": "stdout",
          "text": [
            "Using file name: earth_land_landcover_bogota.csv\n"
          ]
        }
      ],
      "source": [
        "#@title **STEP 2**: Input the name of the file that you just committed (including *.csv extension) - e.g. \"`air_atmo_C02_manuloa.csv`\" { display-mode: \"form\" }\n",
        "\n",
        "file_name = 'earth_land_landcover_bogota.csv' #@param {type:\"string\"}\n",
        "#file_name = input('Enter the file name: ')\n",
        "file_name = file_name.strip()\n",
        "#@markdown ...and run the cell\n",
        "\n",
        "print(\"Using file name: \" + file_name)"
      ]
    },
    {
      "cell_type": "markdown",
      "source": [
        "**TIP**: If you just want to test the ideal values (and you've already tested the file and know that it works) you can jump straight to **Step 7**. "
      ],
      "metadata": {
        "id": "qzOGLSlLm0Ou"
      }
    },
    {
      "cell_type": "code",
      "source": [
        "#@title **STEP 3**: Check that the file can be processed correctly.\n",
        "file_name = file_name.strip()\n",
        "try:\n",
        "  df = pd.read_csv(\"/content/stories-from-home-v1/data/\" + file_name)\n",
        "  print(\"Successfully imported.\")\n",
        "  print(\"DATA PREVIEW:\")\n",
        "  print(df.head())\n",
        "except:\n",
        "  print(\"Cannot import the file.\")\n",
        "  print(\"Is the final name correct? If you just committed it, refresh the repo by running STEP 1 again.\")\n",
        "\n"
      ],
      "metadata": {
        "id": "eqofltgIDXvs",
        "colab": {
          "base_uri": "https://localhost:8080/"
        },
        "outputId": "50292f9c-46d1-4163-dc4e-a1f63a6bd54c",
        "cellView": "form"
      },
      "execution_count": 6,
      "outputs": [
        {
          "output_type": "stream",
          "name": "stdout",
          "text": [
            "Successfully imported.\n",
            "DATA PREVIEW:\n",
            "         Time       Data\n",
            "0  2001-01-01  79.449541\n",
            "1  2002-01-01  79.449541\n",
            "2  2003-01-01  79.449541\n",
            "3  2004-01-01  79.449541\n",
            "4  2005-01-01  79.633028\n"
          ]
        }
      ]
    },
    {
      "cell_type": "code",
      "source": [
        "#@title **STEP 4**: Check Column naming\n",
        "print(\"\\nChecking Column Names...\\n\")\n",
        "\n",
        "try:\n",
        "  timecol = df[\"Time\"]\n",
        "  print(\"Time column detected\")\n",
        "except:\n",
        "  print(\"Cannot find a column called 'Time' - did you name it correctly?\")\n",
        "\n",
        "try:\n",
        "  datacol = df[\"Data\"]\n",
        "  print(\"Data column detected\")\n",
        "except:\n",
        "  print(\"Cannot find a column called 'Data' - did you name it correctly?\")"
      ],
      "metadata": {
        "id": "zzO0qtiEGU9C",
        "cellView": "form",
        "colab": {
          "base_uri": "https://localhost:8080/"
        },
        "outputId": "30739e45-835c-4d8b-fe35-91e19ba43837"
      },
      "execution_count": 7,
      "outputs": [
        {
          "output_type": "stream",
          "name": "stdout",
          "text": [
            "\n",
            "Checking Column Names...\n",
            "\n",
            "Time column detected\n",
            "Data column detected\n"
          ]
        }
      ]
    },
    {
      "cell_type": "code",
      "source": [
        "#@title **STEP 6** Check that the time format can be correctly indexed\n",
        "\n",
        "import datetime as dt\n",
        "import re\n",
        "\n",
        "#timecol = df[\"Day\"]\n",
        "tsample = str(timecol.loc[1])\n",
        "\n",
        "if re.match('\\d{4}-\\d{2}-\\d{2}', tsample):\n",
        "  print(\"Sample date in first row matches pattern\")\n",
        "else:\n",
        "  print(\"The first line in the dataset does not match the pattern `YYYY-MM-DD` - are you sure it is correct?\")\n",
        "\n",
        "try:\n",
        "  dft = df.copy()\n",
        "  timecol = pd.to_datetime(timecol, infer_datetime_format=True)\n",
        "  dft.set_index(timecol, inplace=True)\n",
        "  print(\"Time Column Successfully Parsed as Dates\")\n",
        "  print(dft.index)\n",
        "except:\n",
        "  print(\"The column values could not be parsed as dates - are the numbers correct?\")"
      ],
      "metadata": {
        "cellView": "form",
        "id": "XRFRqofQI18C",
        "colab": {
          "base_uri": "https://localhost:8080/"
        },
        "outputId": "22030ede-e310-42e1-bd12-3b9eae0773d3"
      },
      "execution_count": 8,
      "outputs": [
        {
          "output_type": "stream",
          "name": "stdout",
          "text": [
            "Sample date in first row matches pattern\n",
            "Time Column Successfully Parsed as Dates\n",
            "DatetimeIndex(['2001-01-01', '2002-01-01', '2003-01-01', '2004-01-01',\n",
            "               '2005-01-01', '2006-01-01', '2007-01-01', '2008-01-01',\n",
            "               '2009-01-01', '2010-01-01', '2011-01-01', '2012-01-01',\n",
            "               '2013-01-01', '2014-01-01', '2015-01-01', '2016-01-01',\n",
            "               '2017-01-01', '2018-01-01'],\n",
            "              dtype='datetime64[ns]', name='Time', freq=None)\n"
          ]
        }
      ]
    },
    {
      "cell_type": "code",
      "source": [
        "#@title **STEP 7** Load the metadata from the YAML file (if exists)\n",
        "import sys\n",
        "from ruamel.yaml import YAML\n",
        "#### LOAD ENTITY CONFIG\n",
        "yamlfileexists = 0\n",
        "try:\n",
        "  yamlfile = file_name.replace('.csv','.yaml')\n",
        "  configfile=\"/content/stories-from-home-v1/data/\" + yamlfile\n",
        "  print(\"yaml file exists: \"+configfile)\n",
        "  yamlfileexists = 1\n",
        "except:\n",
        "  print(\"Yaml file not found\")\n",
        "\n",
        "# yaml=YAML(typ='safe')\n",
        "# yaml.default_flow_style = False\n",
        "#with open(configfile, encoding='utf-8') as f:\n",
        "#  econfig = yaml.load(f)\n",
        "# print(econfig)\n",
        "\n",
        "try:\n",
        "  #### LOAD ENTITY CONFIG\n",
        "\n",
        "  yaml=YAML(typ='safe')\n",
        "  yaml.default_flow_style = False\n",
        "  with open(configfile, encoding='utf-8') as f:\n",
        "    econfig = yaml.load(f)\n",
        "  try:\n",
        "    ideallower = econfig['entitydata']['idealranges']['lower']\n",
        "    print(\"Config contains lower ideal value of: \" + str(ideallower))\n",
        "    idealupper = econfig['entitydata']['idealranges']['upper']\n",
        "    print(\"Config contains upper ideal value of: \" + str(idealupper))\n",
        "  except:\n",
        "    print(\"One or more ideal values not defined properly\")\n",
        "    print(econfig)\n",
        "  try:\n",
        "    act1sample = econfig['entitydata']['actmoodsamples']['act1']\n",
        "    print(\"Config contains act1 sample of: \" + str(act1sample))\n",
        "    act2sample = econfig['entitydata']['actmoodsamples']['act2']\n",
        "    print(\"Config contains act2 sample of: \" + str(act2sample))\n",
        "    act3sample = econfig['entitydata']['actmoodsamples']['act3']\n",
        "    print(\"Config contains act3 sample of: \" + str(act3sample))\n",
        "  except:\n",
        "    print(\"One or more act samples not defined properly\")\n",
        "    print(econfig)\n",
        "\n",
        "except:\n",
        "  print(\"There was a problem parsing '\" + configfile + \"', falling back to metadata CSV\")\n",
        "  ### FALL BACK TO CHECKING FOR DATA IN CSV\n",
        "  md = pd.read_csv(\"/content/stories-from-home-v1/data/metadata.csv\", encoding=\"utf-8\")\n",
        "  md = md.reset_index()  # make sure indexes pair with number of rows\n",
        "  matches = 0\n",
        "\n",
        "  for index, row in md.iterrows():\n",
        "    if row['Filename'] == file_name:\n",
        "      matches = matches + 1\n",
        "\n",
        "  if matches > 0:\n",
        "    print(\"File name was successfully found in metadata\")\n",
        "    ideallower = row['Idealvaluelower']\n",
        "    print(\"CSV contains lower ideal value of: \" + str(ideallower))\n",
        "    idealupper = row['Idealvalueupper']\n",
        "    print(\"CSV contains upper ideal value of: \" + str(idealupper))\n",
        "  else:\n",
        "    print(\"The file name was not found in the metadata, did you update the metadata file and commit it?\")\n",
        "    print(\"If you have committed updates to the metadata file, run STEP 1 again to update the repo.\")"
      ],
      "metadata": {
        "cellView": "form",
        "id": "KioXo37ZRZ8s",
        "colab": {
          "base_uri": "https://localhost:8080/"
        },
        "outputId": "7f14f8f8-966c-405b-a9cb-dec6f5078df4"
      },
      "execution_count": 9,
      "outputs": [
        {
          "output_type": "stream",
          "name": "stdout",
          "text": [
            "yaml file exists: /content/stories-from-home-v1/data/earth_land_landcover_bogota.yaml\n",
            "Config contains lower ideal value of: None\n",
            "Config contains upper ideal value of: None\n",
            "Config contains act1 sample of: None\n",
            "Config contains act2 sample of: None\n",
            "Config contains act3 sample of: None\n"
          ]
        }
      ]
    },
    {
      "cell_type": "code",
      "source": [
        "#@title **STEP 8**: Enter the ideal values and run the cell to store them { display-mode: \"form\" }\n",
        "\n",
        "#@markdown Enter the LOWER bounds of the ideal range:\n",
        "ideallower = 30 #@param {type:\"number\"}\n",
        "#@markdown Enter the UPPER bounds of the ideal range:\n",
        "idealupper = 37 #@param {type:\"number\"}\n",
        "\n",
        "ideallower=float(ideallower)\n",
        "idealupper=float(idealupper)\n",
        "\n",
        "print(\"Using lower ideal value of: \" + str(ideallower))\n",
        "print(\"Using upper ideal value of: \" + str(idealupper))\n"
      ],
      "metadata": {
        "id": "NgFq6IergFzi",
        "colab": {
          "base_uri": "https://localhost:8080/"
        },
        "outputId": "ed358c2a-300e-4ac5-c255-7b2484edeb56"
      },
      "execution_count": 11,
      "outputs": [
        {
          "output_type": "stream",
          "name": "stdout",
          "text": [
            "Using lower ideal value of: 30.0\n",
            "Using upper ideal value of: 37.0\n"
          ]
        }
      ]
    },
    {
      "cell_type": "code",
      "source": [
        "#@title **STEP 9**: Initialize chart by choosing your time unit{ display-mode: \"form\" }\n",
        "\n",
        "#@markdown Set the unit of time for your (data so that interpolation works correctly) and run.\n",
        "\n",
        "timeunit = 'months (interpolate by days)' #@param [\"years (interpolate by month)\", \"months (interpolate by days)\",  \"days (interpolate by hours)\"] {allow-input: true}\n",
        "\n",
        "\n",
        "################ CHART STUFF #########################\n",
        "print(\"initializing chart vizualization\")\n",
        "# Define important variables\n",
        "filebase = \"/content/stories-from-home-v1/data/\"\n",
        "files = [\n",
        "    (\"earth_land_ndsi_thwaites.csv\", \"Glacier\", \"ndsi\", \"ice mass\",\"howling\"), #0\n",
        "    (\"earth_land_lai_atismo.csv\", \"Forest\", \"lai\", \"leaf cover\",\"lush and pensive\"), #1\n",
        "    (\"air_atmo_airtemp_sahel.csv\", \"Land\", \"airtemp\", \"temperature\",\"vast and complex\"), #2\n",
        "    (\"fire_volcano_watertemp_ruapehu.csv\", \"Volcano\", \"temp\", \"temperature\", \"colossal and simmering\"), #3\n",
        "    (\"fire_forestfire_nvdi_mendocino.csv\", \"Forest\", \"nvdi\", \"burning fire\", \"dry smouldering\"), #4\n",
        "    (\"fire_volcano_watertemp_kawahIjen.csv\", \"Volcano\", \"temp\", \"temperature\",\"colossal and simmering\"), #5\n",
        "    (\"water_ocean_sealevel_balticsea.csv\", \"Ocean\", \"level\", \"sea level\",\"iridescent rippled\"), #6\n",
        "    (\"water_ocean_sealevel_biscay.csv\", \"Ocean\", \"level\", \"sea level\",\"iridescent rippled\"), #7\n",
        "    (\"air_atmo_precip_toliara.csv\", \"Land\", \"precip\", \"rainfall\",\"vast and complex\"), #8\n",
        "    (\"air_atmo_precip_timbuktu.csv\", \"Land\", \"precip\", \"rainfall\",\"vast and complex\"), #9\n",
        "    (\"earth_forest_lai_norr.csv\", \"Forest\", \"lai\", \"leaf cover\",\"lush and pensive\"), #10\n",
        "    (\"earth_valley_lcover_hainan.csv\", \"Island\", \"area\",\"mass\",\"fertile sultry\"), #11\n",
        "    (\"earth_island_lcover_venice.csv\", \"Island\", \"area\",\"mass\",\"fertile sultry\"), #12\n",
        "    (\"earth_glacier_ndsi_greenland.csv\", \"Glacier\", \"ndsi\", \"ice mass\",\"howling\"), #13\n",
        "    (\"air_atmo_C02_manuloa.csv\", \"Land\", \"C02\", \"carbon dioxide levels\",\"clear and pristine\"), #14\n",
        "    (\"earth_land_lai_taipokau.csv\", \"Forest\", \"lai\", \"leaf cover\",\"lush and pensive\") #15\n",
        "\n",
        "]\n",
        "# START CUSTOM PARAMS #####################################################################\n",
        "fileno = 5\n",
        "idealmin = ideallower\n",
        "idealmax = idealupper\n",
        "entitybio = \"I am a test file.\"\n",
        "# END CUSTOM PARAMS #####################################################################\n",
        "\n",
        "myfile = file_name\n",
        "file = pd.read_csv(filebase + myfile)\n",
        "fn=myfile.replace(\".csv\",\"\")\n",
        "measurement = files[fileno][2]\n",
        "measuredescr = files[fileno][3]\n",
        "datacol = \"Data\"\n",
        "timecol = \"Time\"\n",
        "\n",
        "# START PREP STORY #####################################################################\n",
        "sdf = pd.read_csv('/content/stories-from-home-v1/source_text/input_prompts.csv')\n",
        "entity = files[fileno][1]\n",
        "entityunit = entity.lower() + \"_\" + measurement\n",
        "#print(\"entityunit: \",entityunit)\n",
        "entityadjs =  files[fileno][4]\n",
        "\n",
        "\n",
        "def get_prompt(skey,dmood,nmood):\n",
        "    descr = \"null\"\n",
        "    narr = \"null\"\n",
        "    try:\n",
        "        match = sdf.loc[sdf['0'] == skey]\n",
        "        descr= match[dmood].tolist()[0]\n",
        "        narr = match[nmood].tolist()[0]\n",
        "    except:\n",
        "        print(\"prompt not found\")\n",
        "\n",
        "    return(descr,narr)\n",
        "# END PREP STORY #####################################################################\n",
        "\n",
        "\n",
        "# Convert time to datetime and set date as index\n",
        "df = file.copy()\n",
        "df[timecol] = pd.to_datetime(df[timecol], infer_datetime_format=True)\n",
        "df.set_index(timecol, inplace=True)\n",
        "#print(df.head(4))\n",
        "\n",
        "if timeunit == 'days (interpolate by hours)':\n",
        "  # Interpolate between consistent HOURLY units if Daily\n",
        "  df_interpol = df.resample('1H').mean()\n",
        "  df_interpol[datacol] = df_interpol[datacol].interpolate()\n",
        "else:\n",
        "  if timeunit == 'months (interpolate by days)':\n",
        "    # Interpolate between consistent HOURLY units if Daily\n",
        "    df_interpol = df.resample('1H').mean()\n",
        "    df_interpol[datacol] = df_interpol[datacol].interpolate()\n",
        "  else:\n",
        "    # Interpolate between consistent units- default is month for yearly data\n",
        "    df_interpol = df.resample('M').mean()\n",
        "    df_interpol[datacol] = df_interpol[datacol].interpolate()\n",
        "\n",
        "\n",
        "\n",
        "nrmax = df_interpol[datacol].max()\n",
        "nrmin = df_interpol[datacol].min()\n",
        "\n",
        "# Divide data measurements into 5 sentiment zones based on entire data range\n",
        "increment = (nrmax - nrmin) / 5\n",
        "#print(increment)\n",
        "possegments = [nrmin, nrmin + (increment * 1), nrmin + (increment * 2), nrmin + (increment * 3) , nrmin + (increment * 4), nrmax]\n",
        "#print(possegments)\n",
        "\n",
        "# Divide data measurements into 4 sentiment zones based on proximity to ideal\n",
        "increment = (idealmax - idealmin) / 2\n",
        "#print(\"increment: \",increment)\n",
        "possegments = [\n",
        "    idealmin + (increment * 1),\n",
        "    idealmin + (increment * 2),\n",
        "    idealmin + (increment * 3),\n",
        "    idealmin + (increment * 4),\n",
        "    idealmin + (increment * 5),\n",
        "    idealmin + (increment * 6)\n",
        "]\n",
        "#print(\"possegments: \", possegments)\n",
        "\n",
        "negsegments = [\n",
        "    idealmin + (increment * 1),\n",
        "    idealmin,\n",
        "    idealmin - (increment * 1),\n",
        "    idealmin - (increment * 2),\n",
        "    idealmin - (increment * 3),\n",
        "    idealmin - (increment * 4)\n",
        "]\n",
        "#print(\"negsegments: \", negsegments)\n",
        "\n",
        "# Assess the mood of a datapoint based on the segment it belongs to\n",
        "def check_segment(datapoint):\n",
        "    mood=\"Unknown\"\n",
        "    color=\"black\"\n",
        "    if (possegments[0] <= datapoint <= possegments[1]) or (negsegments[0] >= datapoint >= negsegments[1]):\n",
        "        mood = \"Mood 5\"\n",
        "        color = 'turquoise'\n",
        "        mscale = 500\n",
        "    elif possegments[1] <= datapoint <= possegments[2] or (negsegments[1] >= datapoint >= negsegments[2]):\n",
        "        mood = \"Mood 4\"\n",
        "        color = 'olivedrab'\n",
        "        mscale = 400\n",
        "    elif possegments[2] <= datapoint <= possegments[3] or (negsegments[2] >= datapoint >= negsegments[3]):\n",
        "        mood = \"Mood 3\"\n",
        "        color = 'gold'\n",
        "        mscale = 300\n",
        "    elif possegments[3] <= datapoint <= possegments[4] or (negsegments[3] >= datapoint >= negsegments[4]):\n",
        "        mood = \"Mood 2\"\n",
        "        color = 'orangered'\n",
        "        mscale = 200\n",
        "    elif possegments[4] <= datapoint <= possegments[5] or (negsegments[4] >= datapoint >= negsegments[5]):\n",
        "        mood = \"Mood 1\"\n",
        "        color = 'darkred'\n",
        "        mscale = 100\n",
        "    elif possegments[5] < datapoint or negsegments[5] > datapoint:\n",
        "         mood = \"Mood 0\"\n",
        "         color = 'darkred'\n",
        "         mscale = 100\n",
        "    #print(\"mood: \",mood,\"color: \",color,\"scale: \",)\n",
        "\n",
        "    return(mood, color, mscale)\n",
        "\n",
        "# Divide time into 3 acts\n",
        "tspan = df_interpol.index.max() - df_interpol.index.min()\n",
        "tinc = tspan / 3\n",
        "#print(\"Span, Increment: \",tspan, tinc)\n",
        "\n",
        "# Calculate interesting values for each act\n",
        "actavgs = []\n",
        "actmins = []\n",
        "actmaxs = []\n",
        "#print(\"first act rows: \")\n",
        "#print(df_interpol.loc[df_interpol.index.min():df_interpol.index.min()+tinc])\n",
        "mean1 = df_interpol.loc[df_interpol.index.min():df_interpol.index.min()+tinc].mean()\n",
        "mean1=mean1.values.tolist()[0]\n",
        "min1 = df_interpol.loc[df_interpol.index.min():df_interpol.index.min()+tinc].min()\n",
        "min1=min1.values.tolist()[0]\n",
        "max1 = df_interpol.loc[df_interpol.index.min():df_interpol.index.min()+tinc].max()\n",
        "max1=max1.values.tolist()[0]\n",
        "actavgs.append(mean1)\n",
        "actmins.append(min1)\n",
        "actmaxs.append(max1)\n",
        "#print(actavgs[0],actmins[0],actmaxs[0])\n",
        "\n",
        "#print(\"second act rows: \")\n",
        "#print(df_interpol.loc[df_interpol.index.min()+tinc:df_interpol.index.max()-tinc])\n",
        "mean2 = df_interpol.loc[df_interpol.index.min()+tinc:df_interpol.index.max()-tinc].mean()\n",
        "mean2=mean2.values.tolist()[0]\n",
        "min2 = df_interpol.loc[df_interpol.index.min()+tinc:df_interpol.index.max()-tinc].min()\n",
        "min2=min2.values.tolist()[0]\n",
        "max2 = df_interpol.loc[df_interpol.index.min()+tinc:df_interpol.index.max()-tinc].max()\n",
        "max2=max2.values.tolist()[0]\n",
        "actavgs.append(mean2)\n",
        "actmins.append(min2)\n",
        "actmaxs.append(max2)\n",
        "#print(actavgs[1],actmins[1],actmaxs[1])\n",
        "\n",
        "#print(\"third act rows: \")\n",
        "#print(df_interpol.loc[df_interpol.index.max()-tinc:df_interpol.index.max()])\n",
        "mean3 = df_interpol.loc[df_interpol.index.max()-tinc:df_interpol.index.max()].mean()\n",
        "mean3=mean3.values.tolist()[0]\n",
        "min3 = df_interpol.loc[df_interpol.index.max()-tinc:df_interpol.index.max()].min()\n",
        "min3=min3.values.tolist()[0]\n",
        "max3 = df_interpol.loc[df_interpol.index.max()-tinc:df_interpol.index.max()].max()\n",
        "max3 = max3.values.tolist()[0]\n",
        "actavgs.append(mean3)\n",
        "actmins.append(min3)\n",
        "actmaxs.append(max3)\n",
        "#print(actavgs[2],actmins[2],actmaxs[2])\n",
        "\n",
        "# Prepare the plot\n",
        "x = df_interpol.index\n",
        "y = df_interpol[datacol]\n",
        "\n",
        "if idealmin < y.min():\n",
        "    ymin = idealmin\n",
        "else:\n",
        "    ymin= y.min()\n",
        "\n",
        "if idealmax > y.max():\n",
        "    ymax = idealmax\n",
        "else:\n",
        "    ymax= y.max()\n",
        "\n",
        "# ACT1  - Use averages\n",
        "act1meta = [x.min() + (tinc / 2), actavgs[0]]\n",
        "if actmaxs[0] > (actavgs[0] * 1.15) or actmins[0] - (actavgs[0] * 0.85) :\n",
        "    maxdiff = actmaxs[0] - actavgs[0]\n",
        "    mindiff = actavgs[0] - actmins[0]\n",
        "\n",
        "    if (abs(maxdiff)) > (abs(mindiff)):\n",
        "        # Use maxes\n",
        "        act1meta = [x.min() + (tinc / 2), actmaxs[0]]\n",
        "\n",
        "    else:\n",
        "        if (abs(maxdiff)) < (abs(mindiff)):\n",
        "            # Use mins\n",
        "            act1meta = [x.min() + (tinc / 2), actmins[0]]\n",
        "\n",
        "# ACT2  - Use averages\n",
        "act2meta = [x.min() + tinc + (tinc/2), actavgs[1]]\n",
        "if actmaxs[1] > (actavgs[1] * 1.15) or actmins[1] - (actavgs[1] * 0.85) :\n",
        "    maxdiff = actmaxs[1] - actavgs[1]\n",
        "    mindiff = actavgs[1] - actmins[1]\n",
        "\n",
        "    if (abs(maxdiff)) > (abs(mindiff)):\n",
        "        # Use maxes\n",
        "        act2meta = [x.min() + tinc + (tinc / 2), actmaxs[1]]\n",
        "\n",
        "    if (abs(maxdiff)) < (abs(mindiff)):\n",
        "        # Use mins\n",
        "        act2meta = [x.min() + tinc + (tinc / 2), actmins[1]]\n",
        "\n",
        "# ACT3  - Use averages\n",
        "act3meta = [x.min() + tinc + tinc + (tinc/2), actavgs[2]]\n",
        "if actmaxs[2] > (actavgs[2] * 1.15) or actmins[2] - (actavgs[2] * 0.85) :\n",
        "    maxdiff = actmaxs[2] - actavgs[2]\n",
        "    mindiff = actavgs[2] - actmins[2]\n",
        "    if (abs(maxdiff)) > (abs(mindiff)):\n",
        "        # Use maxes\n",
        "        act3meta = [x.min() + tinc + tinc + (tinc/2), actmaxs[2]]\n",
        "    if (abs(maxdiff)) < (abs(mindiff)):\n",
        "        # Use mins\n",
        "        act3meta = [x.min() + tinc + tinc + (tinc/2), actmins[2]]\n",
        "\n",
        "print(\"Chart initialization completed\")\n",
        "\n",
        "# Use averages\n",
        "# act1meta = [x.min() + (tinc/2), actavgs[0]]\n",
        "# act2meta = [x.min() + tinc + (tinc/2), actavgs[1]]\n",
        "# act3meta = [x.min() + tinc + tinc + (tinc/2), actavgs[2]]"
      ],
      "metadata": {
        "colab": {
          "base_uri": "https://localhost:8080/"
        },
        "id": "mCYQdrspvqQf",
        "outputId": "7a7931e2-57d9-48c6-c504-749a0443c6a7"
      },
      "execution_count": 12,
      "outputs": [
        {
          "output_type": "stream",
          "name": "stdout",
          "text": [
            "initializing chart vizualization\n",
            "Chart initialization completed\n"
          ]
        }
      ]
    },
    {
      "cell_type": "markdown",
      "source": [
        "### STEP 9.1: *(Optional)* Override the automatic mood calculation by entering the sample values for each act.\n",
        "\n",
        "Note, for scripts in this section to work, you need to run **step 8** first."
      ],
      "metadata": {
        "id": "xwi3D73Dtaio"
      }
    },
    {
      "cell_type": "code",
      "source": [
        "#@title - Reload existing values from YAML config (if present) { display-mode: \"form\" }\n",
        "\n",
        "#@markdown Use this cell to replace all values you defined in the form below:\n",
        "\n",
        "if yamlfileexists == 1:\n",
        "  try:\n",
        "    act1sample = econfig['entitydata']['actmoodsamples']['act1']\n",
        "    print(\"Config contains act1 sample of: \" + str(act1sample) + \" -using that\")\n",
        "    act1sample = float(act1sample)\n",
        "    act1meta = [x.min() + (tinc/2), act1sample]\n",
        "\n",
        "    act2sample = econfig['entitydata']['actmoodsamples']['act2']\n",
        "    print(\"Config contains act2 sample of: \" + str(act2sample) + \" -using that\")\n",
        "    act2sample = float(act2sample)\n",
        "    act2meta = [x.min() + tinc + (tinc/2), act2sample]\n",
        "    \n",
        "    act3sample = econfig['entitydata']['actmoodsamples']['act3']\n",
        "    print(\"Config contains act3 sample of: \" + str(act3sample) + \" -using that\")\n",
        "    act3sample = float(act3sample)\n",
        "    act3meta = [x.min() + tinc + tinc + (tinc/2), act3sample]\n",
        "  except:\n",
        "    print(\"One or more act samples are not defined in YAML.\")\n",
        "    print(\"You can run the chart viz and let them be caclulated automatically or define them in the fields below\")\n",
        "else:\n",
        " print(\"Cant reload values because a YAML file doesnt exist yet\")"
      ],
      "metadata": {
        "colab": {
          "base_uri": "https://localhost:8080/"
        },
        "id": "AscWktLEaXaK",
        "outputId": "4c8ebfc9-57ac-48bf-c630-cac57699d2f0"
      },
      "execution_count": 13,
      "outputs": [
        {
          "output_type": "stream",
          "name": "stdout",
          "text": [
            "Config contains act1 sample of: None -using that\n",
            "One or more act samples are not defined in YAML.\n",
            "You can run the chart viz and let them be caclulated automatically or define them in the fields below\n"
          ]
        }
      ]
    },
    {
      "cell_type": "code",
      "source": [
        "#@title - Enter Act 1 Sample. { display-mode: \"form\" }\n",
        "\n",
        "#@markdown Enter act 1 sample and run the cell:\n",
        "act1sample = 0.10 #@param {type:\"number\"}\n",
        "\n",
        "# act1sample = input('Enter sample value for Act 1: ')\n",
        "act1sample = float(act1sample)\n",
        "act1meta = [x.min() + (tinc/2), act1sample]\n",
        "\n",
        "print(f\"Using sample value of {act1sample} for Act 1\")"
      ],
      "metadata": {
        "id": "s0H4gVJBqcor",
        "colab": {
          "base_uri": "https://localhost:8080/"
        },
        "outputId": "f54d086b-5058-47ce-aa9f-7f125686478b"
      },
      "execution_count": 27,
      "outputs": [
        {
          "output_type": "stream",
          "name": "stdout",
          "text": [
            "Using sample value of 0.1 for Act 1\n"
          ]
        }
      ]
    },
    {
      "cell_type": "code",
      "source": [
        "#@title - Enter Act 2 Sample. { display-mode: \"form\" }\n",
        "#@markdown Enter act 2 sample and run the cell:\n",
        "act2sample = 0.21 #@param {type:\"number\"}\n",
        "\n",
        "# act2sample = input('Enter sample value for Act 2: ')\n",
        "act2sample = float(act2sample)\n",
        "act2meta = [x.min() + tinc + (tinc/2), act2sample]\n",
        "\n",
        "print(f\"Using sample value of {act2sample} for Act 2\")"
      ],
      "metadata": {
        "colab": {
          "base_uri": "https://localhost:8080/"
        },
        "id": "QlQkJWcBs_Go",
        "outputId": "75610e29-ddca-46c1-f143-11402149595b"
      },
      "execution_count": 25,
      "outputs": [
        {
          "output_type": "stream",
          "name": "stdout",
          "text": [
            "Using sample value of 0.21 for Act 2\n"
          ]
        }
      ]
    },
    {
      "cell_type": "code",
      "source": [
        "#@title - Enter Act 3 Sample. { display-mode: \"form\" }\n",
        "#@markdown Enter act 3 sample and run the cell:\n",
        "act3sample = 0.05 #@param {type:\"number\"}\n",
        "#act3sample = input('Enter sample value for Act 3: ')\n",
        "act3sample = float(act3sample)\n",
        "act3meta = [x.min() + tinc + tinc + (tinc/2), act3sample]\n",
        "\n",
        "print(f\"Using sample value of {act3sample} for Act 3\")"
      ],
      "metadata": {
        "id": "M848cs15tBGd",
        "colab": {
          "base_uri": "https://localhost:8080/"
        },
        "outputId": "1164112e-772a-4830-dc0c-4452c31f7613"
      },
      "execution_count": 23,
      "outputs": [
        {
          "output_type": "stream",
          "name": "stdout",
          "text": [
            "Using sample value of 0.05 for Act 3\n"
          ]
        }
      ]
    },
    {
      "cell_type": "markdown",
      "source": [],
      "metadata": {
        "id": "7nxaMgpf7CYc"
      }
    },
    {
      "cell_type": "code",
      "source": [
        "#@title **STEP 10** Vizualize the Data { display-mode: \"form\" }\n",
        "\n",
        "plt.plot(x, y, color='gray', linestyle='--', marker='o')\n",
        "plt.xlim([x.min(),x.max()])\n",
        "\n",
        "# adjust chart range to be slightly bigger than value range\n",
        "ysmin = ymin-(idealmax-idealmin)\n",
        "ysmax = ymax+(idealmax-idealmin)\n",
        "\n",
        "plt.ylim([ysmin,ysmax])\n",
        "# plt.axhline(y=idealmin*0.98, color='hotpink', linestyle='-', linewidth=2)\n",
        "# plt.axhline(y=idealmax*1.02, color='pink', linestyle='-',linewidth=2)\n",
        "\n",
        "plt.axvline(x=x.min() + tinc, color='black', linestyle='-')\n",
        "plt.axvline(x=x.max() - tinc, color='black', linestyle='-')\n",
        "\n",
        "plt.axhline(y=possegments[4], color='darkred', linestyle='--')\n",
        "plt.axhline(y=possegments[3], color='orangered', linestyle='--')\n",
        "plt.axhline(y=possegments[2], color='gold', linestyle='--')\n",
        "plt.axhline(y=possegments[1], color='olivedrab', linestyle='--')\n",
        "plt.axhline(y=possegments[0], color='turquoise', linestyle='--')\n",
        "\n",
        "plt.axhline(y=negsegments[4], color='darkred', linestyle='--')\n",
        "plt.axhline(y=negsegments[3], color='orangered', linestyle='--')\n",
        "plt.axhline(y=negsegments[2], color='gold', linestyle='--')\n",
        "plt.axhline(y=negsegments[1], color='olivedrab', linestyle='--')\n",
        "plt.axhline(y=negsegments[0], color='turquoise', linestyle='--')\n",
        "\n",
        "plt.axhspan(idealmin, idealmax, facecolor='g', alpha=0.25)\n",
        "\n",
        "print(\"Lower ideal value: \" + str(ideallower))\n",
        "print(\"Upper ideal value: \" + str(idealupper))\n",
        "\n",
        "#print(\"plotting act 1 info\",(act1meta[0],act1meta[1]))\n",
        "act1moodlevel = check_segment(act1meta[1])[0]\n",
        "print(\"Mood Samples\")\n",
        "print(\"act1: \",act1meta[1])\n",
        "plt.plot(act1meta[0],act1meta[1], marker=\"D\", markersize=10, markeredgecolor=\"black\", markerfacecolor=\"yellow\")\n",
        "plt.text(act1meta[0],act1meta[1],act1moodlevel,color=check_segment(act1meta[1])[1],weight=\"bold\")\n",
        "\n",
        "#print(\"plotting act 2 info\",(act2meta[0],act2meta[1]))\n",
        "act2moodlevel = check_segment(act2meta[1])[0]\n",
        "print(\"act2: \",act2meta[1])\n",
        "plt.plot(act2meta[0],act2meta[1], marker=\"D\", markersize=10, markeredgecolor=\"black\", markerfacecolor=\"yellow\")\n",
        "plt.text(act2meta[0],act2meta[1], act2moodlevel,color=check_segment(act2meta[1])[1],weight=\"bold\")\n",
        "\n",
        "\n",
        "#print(\"plotting act 3 info\",(act3meta[0],act3meta[1]))\n",
        "act3moodlevel = check_segment(act3meta[1])[0]\n",
        "print(\"act3: \",act3meta[1])\n",
        "plt.plot(act3meta[0],act3meta[1], marker=\"D\", markersize=10, markeredgecolor=\"black\", markerfacecolor=\"yellow\")\n",
        "plt.text(act3meta[0],act3meta[1], act3moodlevel,color=check_segment(act3meta[1])[1],weight=\"bold\")\n",
        "\n",
        "print(\"Mood Samples:\")\n",
        "print(\"act1: \",act1moodlevel)\n",
        "print(\"act2: \",act2moodlevel)\n",
        "print(\"act3: \",act3moodlevel)\n",
        "\n",
        "title = fn\n",
        "plt.title(title)\n",
        "plt.xlabel(\"Time\")\n",
        "plt.ylabel(\"Measurement\")\n",
        "plt.show()"
      ],
      "metadata": {
        "id": "JwdY4g94Tesv",
        "colab": {
          "base_uri": "https://localhost:8080/",
          "height": 469
        },
        "outputId": "82306bf2-221a-4871-f9c1-00d1c84c4ab7"
      },
      "execution_count": 14,
      "outputs": [
        {
          "output_type": "stream",
          "name": "stdout",
          "text": [
            "Lower ideal value: 30.0\n",
            "Upper ideal value: 37.0\n",
            "Mood Samples\n",
            "act1:  79.63302752293579\n",
            "act2:  80.16066414735128\n",
            "act3:  80.36697247706422\n",
            "Mood Samples:\n",
            "act1:  Mood 0\n",
            "act2:  Mood 0\n",
            "act3:  Mood 0\n"
          ]
        },
        {
          "output_type": "display_data",
          "data": {
            "text/plain": [
              "<Figure size 432x288 with 1 Axes>"
            ],
            "image/png": "[encoded data removed]"
          },
          "metadata": {
            "needs_background": "light"
          }
        }
      ]
    },
    {
      "cell_type": "code",
      "source": [
        "#@title **STEP 11** Show the new yaml configuration based on chart { display-mode: \"form\" }\n",
        "\n",
        "try:\n",
        "  econfig['entitydata']['idealranges']['lower'] = ideallower\n",
        "  print(\"Writing to Config: lower ideal value of: \" + str(ideallower))\n",
        "  econfig['entitydata']['idealranges']['upper'] = idealupper\n",
        "  print(\"Writing to Config: upper ideal value of: \" + str(idealupper))\n",
        "except:\n",
        "  print(\"cant write ideal values\")\n",
        "try:\n",
        "  # Try with hand-defined values\n",
        "  econfig['entitydata']['actmoodsamples']['act1'] = act1sample\n",
        "  econfig['entitydata']['actmoodlevels']['act1'] = int(act1moodlevel[-1:])\n",
        "  print(\"Writing to Config: act1 sample of: \" + str(act1sample))\n",
        "  econfig['entitydata']['actmoodsamples']['act2'] = act2sample\n",
        "  econfig['entitydata']['actmoodlevels']['act2'] = int(act2moodlevel[-1:])\n",
        "  print(\"Writing to Config: act2 sample of: \" + str(act2sample))\n",
        "  econfig['entitydata']['actmoodsamples']['act3'] = act3sample\n",
        "  econfig['entitydata']['actmoodlevels']['act3'] = int(act3moodlevel[-1:])\n",
        "  print(\"Writing to Config: act3 sample of: \" + str(act3sample))\n",
        "except:\n",
        "  try:\n",
        "    # Fall back to auto-calculated values\n",
        "    econfig['entitydata']['actmoodsamples']['act1'] = act1meta[1]\n",
        "    #econfig['entitydata']['actmoodlevels']['act1'] = int(act1moodlevel[-1:])\n",
        "    print(\"Writing to Config: act1 sample of: \" + str(act1meta[1]))\n",
        "    econfig['entitydata']['actmoodsamples']['act2'] = act2meta[1]\n",
        "    #econfig['entitydata']['actmoodlevels']['act2'] = int(act2moodlevel[-1:])\n",
        "    print(\"Writing to Config: act2 sample of: \" + str(act2meta[1]))\n",
        "    econfig['entitydata']['actmoodsamples']['act3'] = act3meta[1]\n",
        "    #econfig['entitydata']['actmoodlevels']['act3'] = int(act3moodlevel[-1:])\n",
        "    print(\"Writing to Config: act3 sample of: \" + str(act3meta[1])) \n",
        "  except:\n",
        "    print(\"cant write sample values\")\n",
        "\n",
        "\n",
        "#print(\"entitydata:\")\n",
        "try:\n",
        " print(\"\\nCopy this YAML to the 'entitydata' section of your local file, then commit it:\")\n",
        " print(\"-------------------------------\")\n",
        " yaml.dump(econfig['entitydata'], sys.stdout)\n",
        " print(\"-------------------------------\")\n",
        " print(\"\\nThe full YAML file should look like this:\")\n",
        " print(\"-------------------------------\")\n",
        " yaml.dump(econfig, sys.stdout)\n",
        "except:\n",
        " print(\"OOPS!\") \n",
        " print(\"Can't create new YAML yet- probably because no YAML file existed previously\")\n",
        " print(\"For now you can copy and paste the printed values manually into a new YAML file\")\n",
        " print(\"--------------\")\n",
        " try:\n",
        "   print(\"lower ideal value: \" + str(ideallower))\n",
        "   print(\"upper ideal value: \" + str(idealupper))\n",
        " except:\n",
        "  print(\"One or more ideal values not defined, nothing to show yet\")\n",
        " try:\n",
        "   print(\"Act1 sample: \" + str(act1sample))\n",
        "   print(\"Act2 sample: \" + str(act2sample))\n",
        "   print(\"Act3 sample: \" + str(act3sample))\n",
        " except:\n",
        "   print(\"One or more act samples not defined, as a fallback, take the auto-calculated ones displayed above the chart.\")\n",
        " print(\"--------------\")\n",
        " print(\"Will add a blank YAML template as fallback solution soon.\")"
      ],
      "metadata": {
        "colab": {
          "base_uri": "https://localhost:8080/"
        },
        "id": "Fr0TDaW3bTaB",
        "outputId": "644e6a3f-8c79-466c-a5a0-6d714061aeb3"
      },
      "execution_count": 51,
      "outputs": [
        {
          "output_type": "stream",
          "name": "stdout",
          "text": [
            "Writing to Config: lower ideal value of: 0\n",
            "Writing to Config: upper ideal value of: 40\n",
            "Writing to Config: act1 sample of: 19\n",
            "Writing to Config: act2 sample of: 115\n",
            "Writing to Config: act3 sample of: 45\n",
            "\n",
            "Copy this YAML to the 'entitydata' section of your local file, then commit it:\n",
            "-------------------------------\n",
            "actmoodlevels:\n",
            "  act1: 4\n",
            "  act2: 2\n",
            "  act3: 5\n",
            "actmoodsamples:\n",
            "  act1: 19\n",
            "  act2: 115\n",
            "  act3: 45\n",
            "chartstorage: null\n",
            "idealranges:\n",
            "  lower: 0\n",
            "  upper: 40\n",
            "measurementunit: precipitation\n",
            "-------------------------------\n",
            "\n",
            "The full YAML file should look like this:\n",
            "-------------------------------\n",
            "entitydata:\n",
            "  actmoodlevels:\n",
            "    act1: 4\n",
            "    act2: 2\n",
            "    act3: 5\n",
            "  actmoodsamples:\n",
            "    act1: 19\n",
            "    act2: 115\n",
            "    act3: 45\n",
            "  chartstorage: null\n",
            "  idealranges:\n",
            "    lower: 0\n",
            "    upper: 40\n",
            "  measurementunit: precipitation\n",
            "entitydescr:\n",
            "  bio: null\n",
            "  descriptor: null\n",
            "  element: water\n",
            "  id: water_land_precip_novafriburgo\n",
            "  measurementdescr: precipitation\n",
            "  type: land\n",
            "prompt:\n",
            "  act0descr: null\n",
            "  act1descr: null\n",
            "  act2descr: null\n",
            "  act3descr: null\n",
            "  intro: null\n",
            "  searchkey: null\n",
            "storygenerations:\n",
            "- aagen_id: null\n",
            "  act1gen: null\n",
            "  act2gen: null\n",
            "  act3gen: null\n"
          ]
        }
      ]
    }
  ]
}